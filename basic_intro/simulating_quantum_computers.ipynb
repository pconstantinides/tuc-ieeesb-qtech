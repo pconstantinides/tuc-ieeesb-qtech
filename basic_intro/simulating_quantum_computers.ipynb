{
  "cells": [
    {
      "cell_type": "markdown",
      "source": [
        "[![Open In Colab](https://colab.research.google.com/assets/colab-badge.svg)](https://colab.research.google.com/github/pconstantinides/tuc-ieeesb-qtech/blob/main/basic_intro/simulating_quantum_computers.ipynb)\n"
      ],
      "metadata": {
        "id": "0n6NFUbFEmgQ"
      },
      "id": "0n6NFUbFEmgQ"
    },
    {
      "cell_type": "code",
      "source": [
        "# Uncomment the following to install required libraries\n",
        "!pip install qiskit qiskit-aer qiskit-ibm-runtime pylatexenc -q"
      ],
      "metadata": {
        "colab": {
          "base_uri": "https://localhost:8080/"
        },
        "id": "mIFOs2ZvEx-j",
        "outputId": "ef30fb53-0c42-49ef-fd39-523d5ebb908d"
      },
      "id": "mIFOs2ZvEx-j",
      "execution_count": 1,
      "outputs": [
        {
          "output_type": "stream",
          "name": "stdout",
          "text": [
            "\u001b[?25l     \u001b[90m━━━━━━━━━━━━━━━━━━━━━━━━━━━━━━━━━━━━━━━━\u001b[0m \u001b[32m0.0/162.6 kB\u001b[0m \u001b[31m?\u001b[0m eta \u001b[36m-:--:--\u001b[0m\r\u001b[2K     \u001b[90m━━━━━━━━━━━━━━━━━━━━━━━━━━━━━━━━━━━━━━━\u001b[0m \u001b[32m162.6/162.6 kB\u001b[0m \u001b[31m4.9 MB/s\u001b[0m eta \u001b[36m0:00:00\u001b[0m\n",
            "\u001b[?25h  Preparing metadata (setup.py) ... \u001b[?25l\u001b[?25hdone\n",
            "\u001b[2K   \u001b[90m━━━━━━━━━━━━━━━━━━━━━━━━━━━━━━━━━━━━━━━━\u001b[0m \u001b[32m8.0/8.0 MB\u001b[0m \u001b[31m68.1 MB/s\u001b[0m eta \u001b[36m0:00:00\u001b[0m\n",
            "\u001b[2K   \u001b[90m━━━━━━━━━━━━━━━━━━━━━━━━━━━━━━━━━━━━━━━━\u001b[0m \u001b[32m12.4/12.4 MB\u001b[0m \u001b[31m106.4 MB/s\u001b[0m eta \u001b[36m0:00:00\u001b[0m\n",
            "\u001b[2K   \u001b[90m━━━━━━━━━━━━━━━━━━━━━━━━━━━━━━━━━━━━━━━━\u001b[0m \u001b[32m1.4/1.4 MB\u001b[0m \u001b[31m61.2 MB/s\u001b[0m eta \u001b[36m0:00:00\u001b[0m\n",
            "\u001b[2K   \u001b[90m━━━━━━━━━━━━━━━━━━━━━━━━━━━━━━━━━━━━━━━━\u001b[0m \u001b[32m368.7/368.7 kB\u001b[0m \u001b[31m23.2 MB/s\u001b[0m eta \u001b[36m0:00:00\u001b[0m\n",
            "\u001b[2K   \u001b[90m━━━━━━━━━━━━━━━━━━━━━━━━━━━━━━━━━━━━━━━━\u001b[0m \u001b[32m2.2/2.2 MB\u001b[0m \u001b[31m65.5 MB/s\u001b[0m eta \u001b[36m0:00:00\u001b[0m\n",
            "\u001b[2K   \u001b[90m━━━━━━━━━━━━━━━━━━━━━━━━━━━━━━━━━━━━━━━━\u001b[0m \u001b[32m49.5/49.5 kB\u001b[0m \u001b[31m3.3 MB/s\u001b[0m eta \u001b[36m0:00:00\u001b[0m\n",
            "\u001b[2K   \u001b[90m━━━━━━━━━━━━━━━━━━━━━━━━━━━━━━━━━━━━━━━━\u001b[0m \u001b[32m75.8/75.8 kB\u001b[0m \u001b[31m6.0 MB/s\u001b[0m eta \u001b[36m0:00:00\u001b[0m\n",
            "\u001b[2K   \u001b[90m━━━━━━━━━━━━━━━━━━━━━━━━━━━━━━━━━━━━━━━━\u001b[0m \u001b[32m130.2/130.2 kB\u001b[0m \u001b[31m10.7 MB/s\u001b[0m eta \u001b[36m0:00:00\u001b[0m\n",
            "\u001b[?25h  Building wheel for pylatexenc (setup.py) ... \u001b[?25l\u001b[?25hdone\n"
          ]
        }
      ]
    },
    {
      "cell_type": "markdown",
      "id": "919953f3-6945-47aa-b63e-bec41934b02b",
      "metadata": {
        "id": "919953f3-6945-47aa-b63e-bec41934b02b"
      },
      "source": [
        "# Generate a three-qubit GHZ state using Qiskit patterns <a id=\"ghz\"></a>\n",
        "\n",
        "Now, we will follow this episode of [Coding with Qiskit](https://www.youtube.com/watch?v=93-zLTppFZw&list=PLOFEBzvs-VvrgHZt3exM_NNiNKtZlHvZi&index=4) to guide you through the process of generating a three-qubit GHZ state using [Qiskit patterns](https://quantum.cloud.ibm.com/docs/en/guides/intro-to-patterns).\n",
        "\n",
        "A Qiskit pattern is a general framework for breaking down domain-specific problems and contextualizing required capabilities in stages. This allows for the seamless composability of new capabilities developed by IBM Quantum researchers (and others) and enables a future in which quantum computing tasks are performed by powerful heterogenous (CPU/GPU/QPU) computing infrastructure.\n",
        "\n",
        "The four steps of a Qiskit pattern are as follows:\n",
        "\n",
        "1. **Map** problem to quantum circuits and operators\n",
        "2. **Optimize** for target hardware\n",
        "3. **Execute** on target hardware\n",
        "4. **Post-process** results\n",
        "\n",
        "\n",
        "## Step 1. Map <a id=\"map\"></a>\n",
        "\n",
        "The Greenberger–Horne–Zeilinger (GHZ) state is the extension to three (or more) qubits to the maximally entangled state characteristic of the Bell state depicted above. That means that the GHZ state is:\n",
        "\n",
        "$$\n",
        "|GHZ\\rangle = \\frac{|000\\rangle+|111\\rangle}{\\sqrt{2}}.\n",
        "$$\n",
        "\n",
        "One of the interesting features of the GHZ state is that there are different and equivalent ways to build it using a quantum circuit. In Exercise 1 you will do it in one of the most common ways."
      ]
    },
    {
      "cell_type": "code",
      "execution_count": 2,
      "id": "50e05420-857c-45d2-b4d4-3d2880b08e57",
      "metadata": {
        "id": "50e05420-857c-45d2-b4d4-3d2880b08e57"
      },
      "outputs": [],
      "source": [
        "from qiskit import QuantumCircuit, transpile\n",
        "from qiskit_aer import AerSimulator\n",
        "from qiskit.visualization import array_to_latex, plot_bloch_vector, plot_histogram"
      ]
    },
    {
      "cell_type": "markdown",
      "id": "73bc8127-7778-4988-9da1-f4bf371ca7e3",
      "metadata": {
        "id": "73bc8127-7778-4988-9da1-f4bf371ca7e3"
      },
      "source": [
        "\n",
        "<a id=\"Exercise_1\"></a>\n",
        "<div class=\"alert alert-block alert-success\">\n",
        "    \n",
        "<b>Exercise 1: Design a GHZ state</b>\n",
        "\n",
        "In this exercise, you will design a GHZ state following the steps below:\n",
        "\n",
        "1. Apply a Hadamard gate to qubit 0, putting it into a superposition.\n",
        "2. Apply a CNOT gate between qubits 0 and 1.\n",
        "3. Apply a CNOT gate between qubits 1 and 2.\n",
        "\n",
        "</div>"
      ]
    },
    {
      "cell_type": "code",
      "execution_count": 3,
      "id": "d4fbe4bc-fcea-4d53-a985-a462e98be74f",
      "metadata": {
        "colab": {
          "base_uri": "https://localhost:8080/",
          "height": 320
        },
        "id": "d4fbe4bc-fcea-4d53-a985-a462e98be74f",
        "outputId": "113a0d38-b72a-412b-c18b-6b040301d7d3"
      },
      "outputs": [
        {
          "output_type": "execute_result",
          "data": {
            "text/plain": [
              "<Figure size 747.609x367.889 with 1 Axes>"
            ],
            "image/png": "[encoded data removed]"
          },
          "metadata": {},
          "execution_count": 3
        }
      ],
      "source": [
        "def ghz_circuit():\n",
        "  qc = QuantumCircuit(3)\n",
        "\n",
        "  #####################\n",
        "  # Add your code here\n",
        "  #####################\n",
        "\n",
        "  #delete this\n",
        "  qc.h(0)\n",
        "  qc.cx(0, 1)\n",
        "  qc.cx(1, 2)\n",
        "  #\n",
        "  return qc\n",
        "\n",
        "ghz = ghz_circuit()\n",
        "ghz.measure_active()\n",
        "ghz.draw(\"mpl\")"
      ]
    },
    {
      "cell_type": "code",
      "execution_count": 4,
      "id": "f2495c41-0e45-4c9a-9baa-385e975209fe",
      "metadata": {
        "id": "f2495c41-0e45-4c9a-9baa-385e975209fe"
      },
      "outputs": [],
      "source": [
        "def run_circuit(circuit, shots=1000, noise_model=None):\n",
        "  \"\"\"\n",
        "  Executes a quantum circuit many times.\n",
        "\n",
        "  Parameters:\n",
        "    circuit (QuantumCircuit): the quantum circuit to simulate.\n",
        "    shots (int): the number of times to run the circuit.\n",
        "    noise_model (NoiseModel): An optional noise model to simulate.\n",
        "\n",
        "  Returns:\n",
        "    counts (dict): A the number of times each outcome was measured.\n",
        "  \"\"\"\n",
        "  sim = AerSimulator(noise_model=noise_model)\n",
        "\n",
        "  circuit = transpile(circuit, sim)\n",
        "\n",
        "  result = sim.run(circuit, shots=shots).result()\n",
        "  counts = result.get_counts()\n",
        "  return counts"
      ]
    },
    {
      "cell_type": "code",
      "source": [
        "##############################################\n",
        "#  counts = # Execute the GHZ circuit many times\n",
        "##############################################\n",
        "\n",
        "# delete this\n",
        "counts = run_circuit(ghz)\n",
        "#\n",
        "\n",
        "plot_histogram(counts)"
      ],
      "metadata": {
        "colab": {
          "base_uri": "https://localhost:8080/",
          "height": 487
        },
        "id": "ko4l-hdpYErp",
        "outputId": "5e33333f-ffa1-4345-ed24-cfcf533e1014"
      },
      "id": "ko4l-hdpYErp",
      "execution_count": 8,
      "outputs": [
        {
          "output_type": "execute_result",
          "data": {
            "text/plain": [
              "<Figure size 640x480 with 1 Axes>"
            ],
            "image/png": "[encoded data removed]"
          },
          "metadata": {},
          "execution_count": 8
        }
      ]
    },
    {
      "cell_type": "code",
      "execution_count": 9,
      "id": "841a1268-8827-4322-a36a-be5ad7b768a8",
      "metadata": {
        "id": "841a1268-8827-4322-a36a-be5ad7b768a8"
      },
      "outputs": [],
      "source": [
        "ghz.remove_final_measurements()\n",
        "ghz.save_statevector() # requires qiskit-aer\n",
        "\n",
        "sim = AerSimulator(method=\"statevector\")\n",
        "\n",
        "result = sim.run(ghz).result()"
      ]
    },
    {
      "cell_type": "code",
      "execution_count": 10,
      "id": "53a0b372-ffbc-45c7-94f2-e20327680148",
      "metadata": {
        "colab": {
          "base_uri": "https://localhost:8080/",
          "height": 47
        },
        "id": "53a0b372-ffbc-45c7-94f2-e20327680148",
        "outputId": "7f52114d-bab3-470e-8b50-e2727471c144"
      },
      "outputs": [
        {
          "output_type": "execute_result",
          "data": {
            "text/plain": [
              "<IPython.core.display.Latex object>"
            ],
            "text/latex": "$$\n\n\\begin{bmatrix}\n\\frac{\\sqrt{2}}{2} & 0 & 0 & 0 & 0 & 0 & 0 & \\frac{\\sqrt{2}}{2}  \\\\\n \\end{bmatrix}\n$$"
          },
          "metadata": {},
          "execution_count": 10
        }
      ],
      "source": [
        "statevector = result.get_statevector()\n",
        "\n",
        "array_to_latex(statevector)"
      ]
    },
    {
      "cell_type": "code",
      "source": [
        "from qiskit import transpile\n",
        "from qiskit.transpiler import generate_preset_pass_manager\n",
        "from qiskit_aer.noise import NoiseModel, depolarizing_error, pauli_error\n",
        "\n",
        "\n",
        "##############################################################\n",
        "# ghz = # Create a new GHZ circuit and measure all the qubits\n",
        "##############################################################\n",
        "\n",
        "# delete this\n",
        "ghz = ghz_circuit()\n",
        "ghz.measure_active()\n",
        "#\n",
        "\n",
        "\n",
        "# Define the probabilities for each type of error\n",
        "p_gate1 = 0.03\n",
        "p_gate2 = 0.05\n",
        "p_meas = 0.04\n",
        "\n",
        "# QuantumError objects\n",
        "error_meas = pauli_error([(\"X\", p_meas/2), (\"Z\", p_meas/2), (\"I\", 1 - p_meas)])\n",
        "error_gate1 = pauli_error([(\"X\", p_gate1/2), (\"Z\", p_gate1/2), (\"I\", 1 - p_gate1)])\n",
        "error_gate2 = pauli_error([(\"XX\", p_gate2/2), (\"ZZ\", p_gate2/2), (\"II\", 1 - p_gate2)])\n",
        "\n",
        "# Add errors to noise model\n",
        "n_model = NoiseModel()\n",
        "n_model.add_all_qubit_quantum_error(error_meas, \"measure\")\n",
        "n_model.add_all_qubit_quantum_error(error_gate1, [\"H\"])\n",
        "n_model.add_all_qubit_quantum_error(error_gate2, [\"cx\"])\n",
        "\n",
        "# Run and get counts\n",
        "noisy_counts = run_circuit(ghz, noise_model=n_model)\n",
        "\n",
        "# Plot noisy output\n",
        "plot_histogram(noisy_counts)"
      ],
      "metadata": {
        "colab": {
          "base_uri": "https://localhost:8080/",
          "height": 487
        },
        "id": "xEVnO2FsF_kd",
        "outputId": "fc269661-0daf-4311-e7fc-a17438d80cbd"
      },
      "id": "xEVnO2FsF_kd",
      "execution_count": 13,
      "outputs": [
        {
          "output_type": "execute_result",
          "data": {
            "text/plain": [
              "<Figure size 640x480 with 1 Axes>"
            ],
            "image/png": "[encoded data removed]"
          },
          "metadata": {},
          "execution_count": 13
        }
      ]
    },
    {
      "cell_type": "code",
      "source": [],
      "metadata": {
        "id": "Tdr55mb8Zbqm"
      },
      "id": "Tdr55mb8Zbqm",
      "execution_count": null,
      "outputs": []
    }
  ],
  "metadata": {
    "kernelspec": {
      "display_name": "iquantum",
      "language": "python",
      "name": "iquantum"
    },
    "language_info": {
      "codemirror_mode": {
        "name": "ipython",
        "version": 3
      },
      "file_extension": ".py",
      "mimetype": "text/x-python",
      "name": "python",
      "nbconvert_exporter": "python",
      "pygments_lexer": "ipython3",
      "version": "3.12.3"
    },
    "colab": {
      "provenance": []
    }
  },
  "nbformat": 4,
  "nbformat_minor": 5
}